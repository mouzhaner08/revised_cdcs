{
 "cells": [
  {
   "cell_type": "markdown",
   "id": "ca10874b",
   "metadata": {},
   "source": [
    "# Example Notebook: Causal Discovery using `revised_cdcs`"
   ]
  },
  {
   "cell_type": "markdown",
   "id": "a83e91e0",
   "metadata": {},
   "source": [
    "## Step 1: Import Core Modules"
   ]
  },
  {
   "cell_type": "code",
   "execution_count": null,
   "id": "4133dbcf",
   "metadata": {},
   "outputs": [
    {
     "ename": "ImportError",
     "evalue": "attempted relative import with no known parent package",
     "output_type": "error",
     "traceback": [
      "\u001b[31m---------------------------------------------------------------------------\u001b[39m",
      "\u001b[31mImportError\u001b[39m                               Traceback (most recent call last)",
      "\u001b[36mCell\u001b[39m\u001b[36m \u001b[39m\u001b[32mIn[5]\u001b[39m\u001b[32m, line 2\u001b[39m\n\u001b[32m      1\u001b[39m \u001b[38;5;28;01mimport\u001b[39;00m\u001b[38;5;250m \u001b[39m\u001b[34;01mnumpy\u001b[39;00m\u001b[38;5;250m \u001b[39m\u001b[38;5;28;01mas\u001b[39;00m\u001b[38;5;250m \u001b[39m\u001b[34;01mnp\u001b[39;00m\n\u001b[32m----> \u001b[39m\u001b[32m2\u001b[39m \u001b[38;5;28;01mfrom\u001b[39;00m\u001b[38;5;250m \u001b[39m\u001b[34;01m.\u001b[39;00m\u001b[34;01m.\u001b[39;00m\u001b[34;01mcore\u001b[39;00m\u001b[34;01m.\u001b[39;00m\u001b[34;01mrDAG\u001b[39;00m\u001b[38;5;250m \u001b[39m\u001b[38;5;28;01mimport\u001b[39;00m GenerateCausalGraph\n\u001b[32m      3\u001b[39m \u001b[38;5;28;01mfrom\u001b[39;00m\u001b[38;5;250m \u001b[39m\u001b[34;01mrevised_cdcs\u001b[39;00m\u001b[34;01m.\u001b[39;00m\u001b[34;01mcore\u001b[39;00m\u001b[34;01m.\u001b[39;00m\u001b[34;01mtestAn\u001b[39;00m\u001b[38;5;250m \u001b[39m\u001b[38;5;28;01mimport\u001b[39;00m compute_test_tensor_G\n\u001b[32m      4\u001b[39m \u001b[38;5;28;01mfrom\u001b[39;00m\u001b[38;5;250m \u001b[39m\u001b[34;01mrevised_cdcs\u001b[39;00m\u001b[34;01m.\u001b[39;00m\u001b[34;01mcore\u001b[39;00m\u001b[34;01m.\u001b[39;00m\u001b[34;01mbnb\u001b[39;00m\u001b[38;5;250m \u001b[39m\u001b[38;5;28;01mimport\u001b[39;00m ConfidenceSet\n",
      "\u001b[31mImportError\u001b[39m: attempted relative import with no known parent package"
     ]
    }
   ],
   "source": [
    "import numpy as np\n",
    "from revised_cdcs.core.rDAG import GenerateCausalGraph\n",
    "from revised_cdcs.core.testAn import compute_test_tensor_G\n",
    "from revised_cdcs.core.bnb import ConfidenceSet\n",
    "import matplotlib.pyplot as plt"
   ]
  },
  {
   "cell_type": "markdown",
   "id": "0d5f6fe0",
   "metadata": {},
   "source": [
    "## Step 2: Simulate Random DAG and Data"
   ]
  },
  {
   "cell_type": "code",
   "execution_count": null,
   "id": "a490e4b7",
   "metadata": {},
   "outputs": [],
   "source": [
    "# Parameters\n",
    "p, n = 5, 200\n",
    "gen = GenerateCausalGraph(p=p, n=n, error_dist='laplace',\n",
    "                          coef=1.0, low_scale=1, high_scale=2,\n",
    "                          uniqueTop='T', parent_prob=0.5)\n",
    "\n",
    "# Generate DAG structure and data\n",
    "B = gen.generate_B()\n",
    "B, Y, errors, scales = gen.generate_data(B)\n",
    "true_orderings = gen.get_all_orderings(B)\n",
    "\n",
    "print(\"True orderings:\", true_orderings)"
   ]
  },
  {
   "cell_type": "markdown",
   "id": "0da0449b",
   "metadata": {},
   "source": [
    "## Step 3: Visualize a DAG from a Topological Ordering"
   ]
  },
  {
   "cell_type": "code",
   "execution_count": null,
   "id": "53c01c8a",
   "metadata": {},
   "outputs": [],
   "source": [
    "ordering = [0, 1, 2, 3, 4]\n",
    "G = gen.ordering_to_dag(ordering, plot=True)\n"
   ]
  },
  {
   "cell_type": "markdown",
   "id": "abec8a01",
   "metadata": {},
   "source": [
    "## Step 4: Compute Test Function Tensor G"
   ]
  },
  {
   "cell_type": "code",
   "execution_count": null,
   "id": "c2c84983",
   "metadata": {},
   "outputs": [],
   "source": [
    "G_tensor = compute_test_tensor_G(Y)\n",
    "print(\"G tensor shape (n, k, p):\", G_tensor.shape)\n"
   ]
  },
  {
   "cell_type": "markdown",
   "id": "7c3c50ca",
   "metadata": {},
   "source": [
    "## Step 5: Run Branch-and-Bound to Estimate Causal Confidence Set"
   ]
  },
  {
   "cell_type": "code",
   "execution_count": null,
   "id": "719dee41",
   "metadata": {},
   "outputs": [],
   "source": [
    "cs = ConfidenceSet(Y=Y, bs=200, alpha=0.05, basis='poly', agg_type=3, K=5, verbose=True)\n",
    "conf_set_df = cs.branchAndBound()\n",
    "conf_set_df\n"
   ]
  },
  {
   "cell_type": "markdown",
   "id": "d8240071",
   "metadata": {},
   "source": [
    "## Output: Confidence Set for Causal Orderings"
   ]
  },
  {
   "cell_type": "code",
   "execution_count": null,
   "id": "6f6ce7c0",
   "metadata": {},
   "outputs": [],
   "source": [
    "conf_set_df.head()"
   ]
  }
 ],
 "metadata": {
  "kernelspec": {
   "display_name": "cdcs-env",
   "language": "python",
   "name": "python3"
  },
  "language_info": {
   "codemirror_mode": {
    "name": "ipython",
    "version": 3
   },
   "file_extension": ".py",
   "mimetype": "text/x-python",
   "name": "python",
   "nbconvert_exporter": "python",
   "pygments_lexer": "ipython3",
   "version": "3.11.13"
  }
 },
 "nbformat": 4,
 "nbformat_minor": 5
}
