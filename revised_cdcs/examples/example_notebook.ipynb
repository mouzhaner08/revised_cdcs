{
 "cells": [
  {
   "cell_type": "markdown",
   "id": "ca10874b",
   "metadata": {},
   "source": [
    "# Example Notebook: Causal Discovery using `revised_cdcs`"
   ]
  },
  {
   "cell_type": "markdown",
   "id": "a83e91e0",
   "metadata": {},
   "source": [
    "## Step 1: Import Core Modules"
   ]
  },
  {
   "cell_type": "code",
   "execution_count": null,
   "id": "4133dbcf",
   "metadata": {},
   "outputs": [],
   "source": [
    "import numpy as np\n",
    "from core.rDAG import GenerateCausalGraph\n",
    "from core.testAn import compute_test_tensor_G\n",
    "from core.bnb import ConfidenceSet\n",
    "import matplotlib.pyplot as plt\n"
   ]
  },
  {
   "cell_type": "markdown",
   "id": "0d5f6fe0",
   "metadata": {},
   "source": [
    "## Step 2: Simulate Random DAG and Data"
   ]
  },
  {
   "cell_type": "code",
   "execution_count": null,
   "id": "a490e4b7",
   "metadata": {},
   "outputs": [],
   "source": [
    "# Parameters\n",
    "p, n = 5, 200\n",
    "gen = GenerateCausalGraph(p=p, n=n, error_dist='laplace',\n",
    "                          coef=[], low_scale=1, high_scale=2,\n",
    "                          uniqueTop='T', parent_prob=0.5)\n",
    "\n",
    "# Generate DAG structure and data\n",
    "B = gen.generate_B()\n",
    "B, Y, errors, scales = gen.generate_data(B)\n",
    "\n",
    "print(\"Simulated Y shape:\", Y.shape)\n"
   ]
  },
  {
   "cell_type": "markdown",
   "id": "0da0449b",
   "metadata": {},
   "source": [
    "## Step 3: Visualize a DAG from a Topological Ordering"
   ]
  },
  {
   "cell_type": "code",
   "execution_count": null,
   "id": "53c01c8a",
   "metadata": {},
   "outputs": [],
   "source": [
    "ordering = [0, 1, 2, 3, 4]\n",
    "G = gen.ordering_to_dag(ordering, plot=True)\n"
   ]
  },
  {
   "cell_type": "markdown",
   "id": "abec8a01",
   "metadata": {},
   "source": [
    "## Step 4: Compute Test Function Tensor G"
   ]
  },
  {
   "cell_type": "code",
   "execution_count": null,
   "id": "c2c84983",
   "metadata": {},
   "outputs": [],
   "source": [
    "G_tensor = compute_test_tensor_G(Y)\n",
    "print(\"G tensor shape (n, k, p):\", G_tensor.shape)\n"
   ]
  },
  {
   "cell_type": "markdown",
   "id": "7c3c50ca",
   "metadata": {},
   "source": [
    "## Step 5: Run Branch-and-Bound to Estimate Causal Confidence Set"
   ]
  },
  {
   "cell_type": "code",
   "execution_count": null,
   "id": "719dee41",
   "metadata": {},
   "outputs": [],
   "source": [
    "cs = ConfidenceSet(Y=Y, bs=200, alpha=0.05, basis='poly', agg_type=3, K=5, verbose=True)\n",
    "conf_set_df = cs.branchAndBound()\n",
    "conf_set_df\n"
   ]
  },
  {
   "cell_type": "markdown",
   "id": "d8240071",
   "metadata": {},
   "source": [
    "## Output: Confidence Set for Causal Orderings"
   ]
  },
  {
   "cell_type": "code",
   "execution_count": null,
   "id": "6f6ce7c0",
   "metadata": {},
   "outputs": [],
   "source": [
    "conf_set_df.head()"
   ]
  }
 ],
 "metadata": {},
 "nbformat": 4,
 "nbformat_minor": 5
}
