{
 "cells": [
  {
   "cell_type": "code",
   "execution_count": 10,
   "id": "6f1e996f",
   "metadata": {},
   "outputs": [],
   "source": [
    "import os\n",
    "import numpy as np\n",
    "import pandas as pd\n",
    "from tqdm import trange, tqdm\n",
    "from sklearn.linear_model import LinearRegression\n",
    "from revised_cdcs.test import generate_scenarios, get_scenario_description"
   ]
  },
  {
   "cell_type": "code",
   "execution_count": 2,
   "id": "08fb4400",
   "metadata": {},
   "outputs": [],
   "source": [
    "def scale(x):\n",
    "    \"\"\"Standardize a 1D array to mean 0 and std 1.\"\"\"\n",
    "    return (x - np.mean(x)) / np.std(x)"
   ]
  },
  {
   "cell_type": "code",
   "execution_count": 3,
   "id": "68e61707",
   "metadata": {},
   "outputs": [],
   "source": [
    "def compute_test_tensor_G(Y: np.ndarray) -> np.ndarray:\n",
    "    \"\"\"\n",
    "    Compute test tensor G (n x k x p), where:\n",
    "    - n = number of samples\n",
    "    - p = number of variables\n",
    "    - k = 7 test functions: sin/cos (2), poly2, poly3, sign * |x|^2.5\n",
    "    \"\"\"\n",
    "    n, p = Y.shape\n",
    "    J = 2  # num of sin/cos frequencies\n",
    "    k = 2 * J + 3  # total num of test functions\n",
    "    G = np.zeros((n, k, p))\n",
    "\n",
    "    for u in range(p):\n",
    "        for j in range(1, J + 1):\n",
    "            G[:, 2 * j - 2, u] = np.sin(j * Y[:, u])\n",
    "            G[:, 2 * j - 1, u] = np.cos(j * Y[:, u])\n",
    "        G[:, 4, u] = scale(Y[:, u] ** 2)\n",
    "        G[:, 5, u] = scale(Y[:, u] ** 3)\n",
    "        G[:, 6, u] = scale(np.sign(Y[:, u]) * np.abs(Y[:, u]) ** 2.5)\n",
    "    return G"
   ]
  },
  {
   "cell_type": "code",
   "execution_count": 4,
   "id": "fc594662",
   "metadata": {},
   "outputs": [
    {
     "data": {
      "text/plain": [
       "(10,)"
      ]
     },
     "execution_count": 4,
     "metadata": {},
     "output_type": "execute_result"
    }
   ],
   "source": [
    "X = np.random.normal(0, 1, 10)\n",
    "Y = np.random.uniform(-2, 2, 10)\n",
    "np.shape(Y)"
   ]
  },
  {
   "cell_type": "code",
   "execution_count": 5,
   "id": "2da643d2",
   "metadata": {},
   "outputs": [
    {
     "data": {
      "text/plain": [
       "(10, 7, 1)"
      ]
     },
     "execution_count": 5,
     "metadata": {},
     "output_type": "execute_result"
    }
   ],
   "source": [
    "G = compute_test_tensor_G(X.reshape(-1,1))\n",
    "np.shape(G) # shape (n x k x p)"
   ]
  },
  {
   "cell_type": "code",
   "execution_count": 6,
   "id": "2b1640ff",
   "metadata": {},
   "outputs": [],
   "source": [
    "def compute_statistic(eta: np.ndarray, G: np.ndarray, norm: str = 'inf'):\n",
    "    \"\"\"\n",
    "    Compute test statistic that which quantifies the dependence between a variable eta \n",
    "    and a fixed set of test functions stored in G.\n",
    "    \"\"\"\n",
    "    n, k, p = G.shape\n",
    "    means = (eta[:, None, None] * G).mean(axis=0) * np.sqrt(n)  # shape (k, p)\n",
    "    \n",
    "    if norm == 'l2':\n",
    "       return np.linalg.norm(means, ord=2)\n",
    "    elif norm == 'l1':\n",
    "         return np.linalg.norm(means, ord=1)\n",
    "    elif norm == 'inf':\n",
    "         return np.linalg.norm(means, ord=np.inf)\n",
    "    else:\n",
    "        raise ValueError(\"Invalid norm\")"
   ]
  },
  {
   "cell_type": "code",
   "execution_count": 7,
   "id": "f02e83b1",
   "metadata": {},
   "outputs": [],
   "source": [
    "def test_independence_pval(X: np.ndarray, Y: np.ndarray, B: int = 400, norm: str = 'inf'):\n",
    "    \"\"\"\n",
    "    Test whether Y is conditionally independent of X using residual-based test statistic.\n",
    "    \n",
    "    Parameters:\n",
    "    - X: (n, dx) predictor variables\n",
    "    - Y: (n, dy) response variables\n",
    "    - B: number of bootstrap resamples\n",
    "    - norm: norm used in test statistic ('inf', 'l1', 'l2')\n",
    "    \n",
    "    Returns:\n",
    "    - pvals: array of p-values for each child variable\n",
    "    \"\"\"\n",
    "    # Ensure X and Y are 2D arrays\n",
    "    if X.ndim == 1:\n",
    "        X = X.reshape(-1, 1)\n",
    "    if Y.ndim == 1:\n",
    "        Y = Y.reshape(-1, 1)\n",
    "        \n",
    "    n, dx = X.shape\n",
    "    _, dy = Y.shape\n",
    "\n",
    "    # Step 1: Fit linear regression of Y on X (with intercept)\n",
    "    model = LinearRegression().fit(X, Y)\n",
    "    Y_hat = model.predict(X)\n",
    "    eta = (Y - Y_hat).flatten()  # shape (n,)\n",
    "    \n",
    "    # Step 2: Compute test functions on regressors\n",
    "    G = compute_test_tensor_G(X) # shape (n, k, p)\n",
    "\n",
    "    # Step 3: Compute observed statistic and null distribution\n",
    "    T_obs = compute_statistic(eta, G, norm=norm)\n",
    "    null_dist = np.zeros(B)\n",
    "\n",
    "    for b in range(B):\n",
    "        eta_b = eta[np.random.choice(n, n, replace=True)]\n",
    "        null_dist[b] = compute_statistic(eta_b, G, norm=norm)\n",
    "\n",
    "    # Step 4: Compute empirical p-value\n",
    "    pval = (np.sum(null_dist >= T_obs) + 1) / (B + 1)\n",
    "    \n",
    "    return pval"
   ]
  },
  {
   "cell_type": "code",
   "execution_count": 8,
   "id": "0fc2c158",
   "metadata": {},
   "outputs": [],
   "source": [
    "def evaluate_test_performance(X, Y, reps: int=100, alpha: float=0.05, B: int=400,\n",
    "                              norm: str='inf'):\n",
    "    \"\"\"\n",
    "    Evaluates the power or type I error of the independence test on fixed (X, Y) data.\n",
    "    \n",
    "    Parameters\n",
    "    ----------\n",
    "    X: np.ndarray\n",
    "        A 1D or 2D array of shape (n,) or (n, d1) representing variable X.\n",
    "    Y: np.ndarray\n",
    "        A 1D or 2D array of shape (n,) or (n, d2) representing variable Y.\n",
    "    reps: int, optional\n",
    "        Number of repetitions to simulate the test, by default 100.\n",
    "    alpha: float, optional\n",
    "        Significance level for hypothesis testing, by default 0.05.\n",
    "    B: int, optional\n",
    "        number of bootstrap resamples, by default 400.\n",
    "    norm: str, optional\n",
    "        which norm to aggregate over test functions, by default 'inf'.\n",
    "    \n",
    "    Returns\n",
    "    -------\n",
    "    float\n",
    "        Estimated type I error rate,\n",
    "        computed as the proportion of times the null hypothesis is rejected.\n",
    "    \"\"\"\n",
    "    n = X.shape[0]\n",
    "    pvals = []\n",
    "    for _ in trange(reps, desc=\"Running tests\"):\n",
    "        idx = np.random.choice(n, n, replace=True)\n",
    "        pval = test_independence_pval(X=X[idx], Y=Y[idx], B=B, norm=norm)\n",
    "        pvals.append(pval)\n",
    "    \n",
    "    pvals = np.array(pvals)\n",
    "    rate = np.mean(pvals < alpha)\n",
    "\n",
    "    print(f\"Rejection rate at alpha={alpha:.2f}: {rate:.3f}\")\n",
    "    \n",
    "    return rate"
   ]
  },
  {
   "cell_type": "code",
   "execution_count": 14,
   "id": "2e21e223",
   "metadata": {},
   "outputs": [
    {
     "name": "stdout",
     "output_type": "stream",
     "text": [
      "55\n"
     ]
    }
   ],
   "source": [
    "n = 1000\n",
    "reps = 100\n",
    "alpha = 0.05\n",
    "B = 400\n",
    "norm = 'inf'\n",
    "\n",
    "scenarios = generate_scenarios()\n",
    "print(len(scenarios))"
   ]
  },
  {
   "cell_type": "markdown",
   "id": "07a48dd9",
   "metadata": {},
   "source": [
    "#### CASE 1: Independent Gaussian-Gaussian variables"
   ]
  },
  {
   "cell_type": "code",
   "execution_count": 18,
   "id": "c4c0fd78",
   "metadata": {},
   "outputs": [
    {
     "name": "stdout",
     "output_type": "stream",
     "text": [
      "Testing scenario: Independent GG 1\n"
     ]
    },
    {
     "name": "stderr",
     "output_type": "stream",
     "text": [
      "Running tests: 100%|██████████| 100/100 [00:01<00:00, 97.28it/s]\n"
     ]
    },
    {
     "name": "stdout",
     "output_type": "stream",
     "text": [
      "Rejection rate at alpha=0.05: 0.180\n",
      "Testing scenario: Independent GG 2\n"
     ]
    },
    {
     "name": "stderr",
     "output_type": "stream",
     "text": [
      "Running tests: 100%|██████████| 100/100 [00:01<00:00, 99.34it/s]\n"
     ]
    },
    {
     "name": "stdout",
     "output_type": "stream",
     "text": [
      "Rejection rate at alpha=0.05: 0.100\n",
      "Testing scenario: Independent GG 3\n"
     ]
    },
    {
     "name": "stderr",
     "output_type": "stream",
     "text": [
      "Running tests: 100%|██████████| 100/100 [00:01<00:00, 98.85it/s]\n"
     ]
    },
    {
     "name": "stdout",
     "output_type": "stream",
     "text": [
      "Rejection rate at alpha=0.05: 0.360\n",
      "Testing scenario: Independent GG 4\n"
     ]
    },
    {
     "name": "stderr",
     "output_type": "stream",
     "text": [
      "Running tests: 100%|██████████| 100/100 [00:00<00:00, 100.71it/s]\n"
     ]
    },
    {
     "name": "stdout",
     "output_type": "stream",
     "text": [
      "Rejection rate at alpha=0.05: 0.060\n",
      "Testing scenario: Independent GG 5\n"
     ]
    },
    {
     "name": "stderr",
     "output_type": "stream",
     "text": [
      "Running tests: 100%|██████████| 100/100 [00:00<00:00, 101.90it/s]\n"
     ]
    },
    {
     "name": "stdout",
     "output_type": "stream",
     "text": [
      "Rejection rate at alpha=0.05: 0.090\n",
      "Testing scenario: Independent GG 6\n"
     ]
    },
    {
     "name": "stderr",
     "output_type": "stream",
     "text": [
      "Running tests: 100%|██████████| 100/100 [00:00<00:00, 101.62it/s]\n"
     ]
    },
    {
     "name": "stdout",
     "output_type": "stream",
     "text": [
      "Rejection rate at alpha=0.05: 0.080\n",
      "Testing scenario: Independent GG 7\n"
     ]
    },
    {
     "name": "stderr",
     "output_type": "stream",
     "text": [
      "Running tests: 100%|██████████| 100/100 [00:00<00:00, 101.78it/s]\n"
     ]
    },
    {
     "name": "stdout",
     "output_type": "stream",
     "text": [
      "Rejection rate at alpha=0.05: 0.160\n",
      "Testing scenario: Independent GG 8\n"
     ]
    },
    {
     "name": "stderr",
     "output_type": "stream",
     "text": [
      "Running tests: 100%|██████████| 100/100 [00:01<00:00, 99.32it/s]\n"
     ]
    },
    {
     "name": "stdout",
     "output_type": "stream",
     "text": [
      "Rejection rate at alpha=0.05: 0.180\n",
      "Testing scenario: Independent GG 9\n"
     ]
    },
    {
     "name": "stderr",
     "output_type": "stream",
     "text": [
      "Running tests: 100%|██████████| 100/100 [00:00<00:00, 100.51it/s]\n"
     ]
    },
    {
     "name": "stdout",
     "output_type": "stream",
     "text": [
      "Rejection rate at alpha=0.05: 0.070\n",
      "Testing scenario: Independent GG 10\n"
     ]
    },
    {
     "name": "stderr",
     "output_type": "stream",
     "text": [
      "Running tests: 100%|██████████| 100/100 [00:01<00:00, 94.86it/s]"
     ]
    },
    {
     "name": "stdout",
     "output_type": "stream",
     "text": [
      "Rejection rate at alpha=0.05: 0.120\n"
     ]
    },
    {
     "name": "stderr",
     "output_type": "stream",
     "text": [
      "\n"
     ]
    }
   ],
   "source": [
    "scenario_types = {f\"Independent GG {i}\": \"Independent (G-G)\" for i in range(1, 11)} \n",
    "\n",
    "for name, gen_func in scenarios.items():\n",
    "    if name.startswith(\"Independent GG\"):\n",
    "        print(f\"Testing scenario: {name}\")\n",
    "        X, Y = gen_func(n)\n",
    "        rejection_rate = evaluate_test_performance(X, Y, reps=reps, alpha=alpha, B=B, norm=norm)"
   ]
  },
  {
   "cell_type": "markdown",
   "id": "b0cd6ef1",
   "metadata": {},
   "source": [
    "#### CASE 2: Independent Gaussian-NonGaussian variables"
   ]
  },
  {
   "cell_type": "code",
   "execution_count": 19,
   "id": "baf70e1c",
   "metadata": {},
   "outputs": [
    {
     "name": "stdout",
     "output_type": "stream",
     "text": [
      "Testing scenario: Independent GN 1\n"
     ]
    },
    {
     "name": "stderr",
     "output_type": "stream",
     "text": [
      "Running tests: 100%|██████████| 100/100 [00:01<00:00, 95.93it/s]\n"
     ]
    },
    {
     "name": "stdout",
     "output_type": "stream",
     "text": [
      "Rejection rate at alpha=0.05: 0.020\n",
      "Testing scenario: Independent GN 2\n"
     ]
    },
    {
     "name": "stderr",
     "output_type": "stream",
     "text": [
      "Running tests: 100%|██████████| 100/100 [00:01<00:00, 97.38it/s]\n"
     ]
    },
    {
     "name": "stdout",
     "output_type": "stream",
     "text": [
      "Rejection rate at alpha=0.05: 0.060\n",
      "Testing scenario: Independent GN 3\n"
     ]
    },
    {
     "name": "stderr",
     "output_type": "stream",
     "text": [
      "Running tests: 100%|██████████| 100/100 [00:01<00:00, 98.72it/s]\n"
     ]
    },
    {
     "name": "stdout",
     "output_type": "stream",
     "text": [
      "Rejection rate at alpha=0.05: 0.170\n",
      "Testing scenario: Independent GN 4\n"
     ]
    },
    {
     "name": "stderr",
     "output_type": "stream",
     "text": [
      "Running tests: 100%|██████████| 100/100 [00:01<00:00, 96.76it/s]\n"
     ]
    },
    {
     "name": "stdout",
     "output_type": "stream",
     "text": [
      "Rejection rate at alpha=0.05: 0.040\n",
      "Testing scenario: Independent GN 5\n"
     ]
    },
    {
     "name": "stderr",
     "output_type": "stream",
     "text": [
      "Running tests: 100%|██████████| 100/100 [00:01<00:00, 96.31it/s]\n"
     ]
    },
    {
     "name": "stdout",
     "output_type": "stream",
     "text": [
      "Rejection rate at alpha=0.05: 0.910\n",
      "Testing scenario: Independent GN 6\n"
     ]
    },
    {
     "name": "stderr",
     "output_type": "stream",
     "text": [
      "Running tests: 100%|██████████| 100/100 [00:00<00:00, 100.41it/s]\n"
     ]
    },
    {
     "name": "stdout",
     "output_type": "stream",
     "text": [
      "Rejection rate at alpha=0.05: 0.110\n",
      "Testing scenario: Independent GN 7\n"
     ]
    },
    {
     "name": "stderr",
     "output_type": "stream",
     "text": [
      "Running tests: 100%|██████████| 100/100 [00:00<00:00, 101.28it/s]\n"
     ]
    },
    {
     "name": "stdout",
     "output_type": "stream",
     "text": [
      "Rejection rate at alpha=0.05: 0.350\n",
      "Testing scenario: Independent GN 8\n"
     ]
    },
    {
     "name": "stderr",
     "output_type": "stream",
     "text": [
      "Running tests: 100%|██████████| 100/100 [00:00<00:00, 101.12it/s]\n"
     ]
    },
    {
     "name": "stdout",
     "output_type": "stream",
     "text": [
      "Rejection rate at alpha=0.05: 0.100\n",
      "Testing scenario: Independent GN 9\n"
     ]
    },
    {
     "name": "stderr",
     "output_type": "stream",
     "text": [
      "Running tests: 100%|██████████| 100/100 [00:00<00:00, 100.73it/s]\n"
     ]
    },
    {
     "name": "stdout",
     "output_type": "stream",
     "text": [
      "Rejection rate at alpha=0.05: 0.170\n",
      "Testing scenario: Independent GN 10\n"
     ]
    },
    {
     "name": "stderr",
     "output_type": "stream",
     "text": [
      "Running tests: 100%|██████████| 100/100 [00:01<00:00, 99.37it/s]"
     ]
    },
    {
     "name": "stdout",
     "output_type": "stream",
     "text": [
      "Rejection rate at alpha=0.05: 0.370\n"
     ]
    },
    {
     "name": "stderr",
     "output_type": "stream",
     "text": [
      "\n"
     ]
    }
   ],
   "source": [
    "scenario_types = {f\"Independent GN {i}\": \"Independent (G-NG)\" for i in range(1, 11)}\n",
    "\n",
    "for name, gen_func in scenarios.items():\n",
    "    if name.startswith(\"Independent GN\"):\n",
    "        print(f\"Testing scenario: {name}\")\n",
    "        X, Y = gen_func(n)\n",
    "        rejection_rate = evaluate_test_performance(X, Y, reps=reps, alpha=alpha, B=B, norm=norm)"
   ]
  },
  {
   "cell_type": "markdown",
   "id": "37104c1c",
   "metadata": {},
   "source": [
    "#### CASE 3: Independent NonGaussian-NonGaussian variables"
   ]
  },
  {
   "cell_type": "code",
   "execution_count": null,
   "id": "fd97c162",
   "metadata": {},
   "outputs": [
    {
     "name": "stdout",
     "output_type": "stream",
     "text": [
      "Testing scenario: Independent NN 1\n"
     ]
    },
    {
     "name": "stderr",
     "output_type": "stream",
     "text": [
      "Running tests: 100%|██████████| 100/100 [00:01<00:00, 95.31it/s]\n"
     ]
    },
    {
     "name": "stdout",
     "output_type": "stream",
     "text": [
      "Rejection rate at alpha=0.05: 0.000\n",
      "Testing scenario: Independent NN 2\n"
     ]
    },
    {
     "name": "stderr",
     "output_type": "stream",
     "text": [
      "Running tests: 100%|██████████| 100/100 [00:01<00:00, 97.01it/s]\n"
     ]
    },
    {
     "name": "stdout",
     "output_type": "stream",
     "text": [
      "Rejection rate at alpha=0.05: 0.080\n",
      "Testing scenario: Independent NN 3\n"
     ]
    },
    {
     "name": "stderr",
     "output_type": "stream",
     "text": [
      "Running tests: 100%|██████████| 100/100 [00:01<00:00, 97.34it/s]\n"
     ]
    },
    {
     "name": "stdout",
     "output_type": "stream",
     "text": [
      "Rejection rate at alpha=0.05: 0.000\n",
      "Testing scenario: Independent NN 4\n"
     ]
    },
    {
     "name": "stderr",
     "output_type": "stream",
     "text": [
      "Running tests: 100%|██████████| 100/100 [00:01<00:00, 97.73it/s]\n"
     ]
    },
    {
     "name": "stdout",
     "output_type": "stream",
     "text": [
      "Rejection rate at alpha=0.05: 0.440\n",
      "Testing scenario: Independent NN 5\n"
     ]
    },
    {
     "name": "stderr",
     "output_type": "stream",
     "text": [
      "Running tests: 100%|██████████| 100/100 [00:01<00:00, 96.96it/s]\n"
     ]
    },
    {
     "name": "stdout",
     "output_type": "stream",
     "text": [
      "Rejection rate at alpha=0.05: 0.100\n",
      "Testing scenario: Independent NN 6\n"
     ]
    },
    {
     "name": "stderr",
     "output_type": "stream",
     "text": [
      "Running tests: 100%|██████████| 100/100 [00:01<00:00, 99.81it/s]\n"
     ]
    },
    {
     "name": "stdout",
     "output_type": "stream",
     "text": [
      "Rejection rate at alpha=0.05: 0.100\n",
      "Testing scenario: Independent NN 7\n"
     ]
    },
    {
     "name": "stderr",
     "output_type": "stream",
     "text": [
      "Running tests: 100%|██████████| 100/100 [00:00<00:00, 100.13it/s]\n"
     ]
    },
    {
     "name": "stdout",
     "output_type": "stream",
     "text": [
      "Rejection rate at alpha=0.05: 0.000\n",
      "Testing scenario: Independent NN 8\n"
     ]
    },
    {
     "name": "stderr",
     "output_type": "stream",
     "text": [
      "Running tests: 100%|██████████| 100/100 [00:01<00:00, 98.69it/s]\n"
     ]
    },
    {
     "name": "stdout",
     "output_type": "stream",
     "text": [
      "Rejection rate at alpha=0.05: 0.160\n",
      "Testing scenario: Independent NN 9\n"
     ]
    },
    {
     "name": "stderr",
     "output_type": "stream",
     "text": [
      "Running tests: 100%|██████████| 100/100 [00:01<00:00, 99.59it/s]\n"
     ]
    },
    {
     "name": "stdout",
     "output_type": "stream",
     "text": [
      "Rejection rate at alpha=0.05: 0.020\n",
      "Testing scenario: Independent NN 10\n"
     ]
    },
    {
     "name": "stderr",
     "output_type": "stream",
     "text": [
      "Running tests: 100%|██████████| 100/100 [00:01<00:00, 98.49it/s]"
     ]
    },
    {
     "name": "stdout",
     "output_type": "stream",
     "text": [
      "Rejection rate at alpha=0.05: 0.140\n"
     ]
    },
    {
     "name": "stderr",
     "output_type": "stream",
     "text": [
      "\n"
     ]
    }
   ],
   "source": [
    "scenario_types = {f\"Independent NN {i}\": \"Independent (NG-NG)\" for i in range(1, 11)} \n",
    "\n",
    "for name, gen_func in scenarios.items():\n",
    "    if name.startswith(\"Independent NN\"):\n",
    "        print(f\"Testing scenario: {name}\")\n",
    "        X, Y = gen_func(n)\n",
    "        rejection_rate = evaluate_test_performance(X, Y, reps=reps, alpha=alpha, B=B, norm=norm)"
   ]
  },
  {
   "cell_type": "markdown",
   "id": "716f5fea",
   "metadata": {},
   "source": [
    "#### CASE 4: Weak nonlinear dependence (hard to detect)"
   ]
  },
  {
   "cell_type": "code",
   "execution_count": 20,
   "id": "027727a1",
   "metadata": {},
   "outputs": [
    {
     "name": "stdout",
     "output_type": "stream",
     "text": [
      "Testing scenario: Subtle Weak 1\n"
     ]
    },
    {
     "name": "stderr",
     "output_type": "stream",
     "text": [
      "Running tests: 100%|██████████| 100/100 [00:01<00:00, 97.58it/s]\n"
     ]
    },
    {
     "name": "stdout",
     "output_type": "stream",
     "text": [
      "Rejection rate at alpha=0.05: 1.000\n",
      "Testing scenario: Subtle Weak 2\n"
     ]
    },
    {
     "name": "stderr",
     "output_type": "stream",
     "text": [
      "Running tests: 100%|██████████| 100/100 [00:00<00:00, 101.19it/s]\n"
     ]
    },
    {
     "name": "stdout",
     "output_type": "stream",
     "text": [
      "Rejection rate at alpha=0.05: 0.970\n",
      "Testing scenario: Subtle Weak 3\n"
     ]
    },
    {
     "name": "stderr",
     "output_type": "stream",
     "text": [
      "Running tests: 100%|██████████| 100/100 [00:00<00:00, 101.18it/s]\n"
     ]
    },
    {
     "name": "stdout",
     "output_type": "stream",
     "text": [
      "Rejection rate at alpha=0.05: 0.140\n",
      "Testing scenario: Subtle Weak 4\n"
     ]
    },
    {
     "name": "stderr",
     "output_type": "stream",
     "text": [
      "Running tests: 100%|██████████| 100/100 [00:00<00:00, 101.31it/s]\n"
     ]
    },
    {
     "name": "stdout",
     "output_type": "stream",
     "text": [
      "Rejection rate at alpha=0.05: 0.040\n",
      "Testing scenario: Subtle Weak 5\n"
     ]
    },
    {
     "name": "stderr",
     "output_type": "stream",
     "text": [
      "Running tests: 100%|██████████| 100/100 [00:00<00:00, 100.94it/s]"
     ]
    },
    {
     "name": "stdout",
     "output_type": "stream",
     "text": [
      "Rejection rate at alpha=0.05: 0.730\n"
     ]
    },
    {
     "name": "stderr",
     "output_type": "stream",
     "text": [
      "\n"
     ]
    }
   ],
   "source": [
    "scenario_types = {f\"Subtle Weak {i}\": \"Subtle Dependent\" for i in range(1, 6)}\n",
    "\n",
    "for name, gen_func in scenarios.items():\n",
    "    if name.startswith(\"Subtle Weak\"):\n",
    "        print(f\"Testing scenario: {name}\")\n",
    "        X, Y = gen_func(n)\n",
    "        rejection_rate = evaluate_test_performance(X, Y, reps=reps, alpha=alpha, B=B, norm=norm)"
   ]
  },
  {
   "cell_type": "markdown",
   "id": "827df0db",
   "metadata": {},
   "source": [
    "#### CASE 5: Conditional dependence through latent variable"
   ]
  },
  {
   "cell_type": "code",
   "execution_count": 21,
   "id": "52f10758",
   "metadata": {},
   "outputs": [
    {
     "name": "stdout",
     "output_type": "stream",
     "text": [
      "Testing scenario: Subtle Cond 1\n"
     ]
    },
    {
     "name": "stderr",
     "output_type": "stream",
     "text": [
      "Running tests: 100%|██████████| 100/100 [00:01<00:00, 96.78it/s]\n"
     ]
    },
    {
     "name": "stdout",
     "output_type": "stream",
     "text": [
      "Rejection rate at alpha=0.05: 1.000\n",
      "Testing scenario: Subtle Cond 2\n"
     ]
    },
    {
     "name": "stderr",
     "output_type": "stream",
     "text": [
      "Running tests: 100%|██████████| 100/100 [00:00<00:00, 100.15it/s]\n"
     ]
    },
    {
     "name": "stdout",
     "output_type": "stream",
     "text": [
      "Rejection rate at alpha=0.05: 1.000\n",
      "Testing scenario: Subtle Cond 3\n"
     ]
    },
    {
     "name": "stderr",
     "output_type": "stream",
     "text": [
      "Running tests: 100%|██████████| 100/100 [00:01<00:00, 98.54it/s]\n"
     ]
    },
    {
     "name": "stdout",
     "output_type": "stream",
     "text": [
      "Rejection rate at alpha=0.05: 1.000\n",
      "Testing scenario: Subtle Cond 4\n"
     ]
    },
    {
     "name": "stderr",
     "output_type": "stream",
     "text": [
      "Running tests: 100%|██████████| 100/100 [00:01<00:00, 99.88it/s]\n"
     ]
    },
    {
     "name": "stdout",
     "output_type": "stream",
     "text": [
      "Rejection rate at alpha=0.05: 1.000\n",
      "Testing scenario: Subtle Cond 5\n"
     ]
    },
    {
     "name": "stderr",
     "output_type": "stream",
     "text": [
      "Running tests: 100%|██████████| 100/100 [00:01<00:00, 95.73it/s]"
     ]
    },
    {
     "name": "stdout",
     "output_type": "stream",
     "text": [
      "Rejection rate at alpha=0.05: 1.000\n"
     ]
    },
    {
     "name": "stderr",
     "output_type": "stream",
     "text": [
      "\n"
     ]
    }
   ],
   "source": [
    "scenario_types = {f\"Subtle Cond {i}\": \"Subtle Dependent\" for i in range(1, 6)}\n",
    "\n",
    "for name, gen_func in scenarios.items():\n",
    "    if name.startswith(\"Subtle Cond\"):\n",
    "        print(f\"Testing scenario: {name}\")\n",
    "        X, Y = gen_func(n)\n",
    "        rejection_rate = evaluate_test_performance(X, Y, reps=reps, alpha=alpha, B=B, norm=norm)"
   ]
  },
  {
   "cell_type": "markdown",
   "id": "2af99d6a",
   "metadata": {},
   "source": [
    "#### CASE 6: Higher-order interaction dependence"
   ]
  },
  {
   "cell_type": "code",
   "execution_count": 22,
   "id": "cac58bb9",
   "metadata": {},
   "outputs": [
    {
     "name": "stdout",
     "output_type": "stream",
     "text": [
      "Testing scenario: Subtle Higher 1\n"
     ]
    },
    {
     "name": "stderr",
     "output_type": "stream",
     "text": [
      "Running tests: 100%|██████████| 100/100 [00:01<00:00, 95.57it/s]\n"
     ]
    },
    {
     "name": "stdout",
     "output_type": "stream",
     "text": [
      "Rejection rate at alpha=0.05: 0.270\n",
      "Testing scenario: Subtle Higher 2\n"
     ]
    },
    {
     "name": "stderr",
     "output_type": "stream",
     "text": [
      "Running tests: 100%|██████████| 100/100 [00:01<00:00, 96.92it/s]\n"
     ]
    },
    {
     "name": "stdout",
     "output_type": "stream",
     "text": [
      "Rejection rate at alpha=0.05: 0.380\n",
      "Testing scenario: Subtle Higher 3\n"
     ]
    },
    {
     "name": "stderr",
     "output_type": "stream",
     "text": [
      "Running tests: 100%|██████████| 100/100 [00:01<00:00, 96.45it/s]\n"
     ]
    },
    {
     "name": "stdout",
     "output_type": "stream",
     "text": [
      "Rejection rate at alpha=0.05: 0.190\n",
      "Testing scenario: Subtle Higher 4\n"
     ]
    },
    {
     "name": "stderr",
     "output_type": "stream",
     "text": [
      "Running tests: 100%|██████████| 100/100 [00:01<00:00, 97.49it/s]\n"
     ]
    },
    {
     "name": "stdout",
     "output_type": "stream",
     "text": [
      "Rejection rate at alpha=0.05: 1.000\n",
      "Testing scenario: Subtle Higher 5\n"
     ]
    },
    {
     "name": "stderr",
     "output_type": "stream",
     "text": [
      "Running tests: 100%|██████████| 100/100 [00:01<00:00, 98.89it/s]"
     ]
    },
    {
     "name": "stdout",
     "output_type": "stream",
     "text": [
      "Rejection rate at alpha=0.05: 1.000\n"
     ]
    },
    {
     "name": "stderr",
     "output_type": "stream",
     "text": [
      "\n"
     ]
    }
   ],
   "source": [
    "scenario_types = {f\"Subtle Higher {i}\": \"Subtle Dependent\" for i in range(1, 6)}\n",
    "\n",
    "for name, gen_func in scenarios.items():\n",
    "    if name.startswith(\"Subtle Higher\"):\n",
    "        print(f\"Testing scenario: {name}\")\n",
    "        X, Y = gen_func(n)\n",
    "        rejection_rate = evaluate_test_performance(X, Y, reps=reps, alpha=alpha, B=B, norm=norm)"
   ]
  },
  {
   "cell_type": "markdown",
   "id": "4ad9f7f9",
   "metadata": {},
   "source": [
    "#### CASE 7: Strong nonlinear dependence (easy to detect)"
   ]
  },
  {
   "cell_type": "code",
   "execution_count": 23,
   "id": "8c7f29d2",
   "metadata": {},
   "outputs": [
    {
     "name": "stdout",
     "output_type": "stream",
     "text": [
      "Testing scenario: Dependent Strong 1\n"
     ]
    },
    {
     "name": "stderr",
     "output_type": "stream",
     "text": [
      "Running tests: 100%|██████████| 100/100 [00:01<00:00, 94.10it/s]\n"
     ]
    },
    {
     "name": "stdout",
     "output_type": "stream",
     "text": [
      "Rejection rate at alpha=0.05: 1.000\n",
      "Testing scenario: Dependent Strong 2\n"
     ]
    },
    {
     "name": "stderr",
     "output_type": "stream",
     "text": [
      "Running tests: 100%|██████████| 100/100 [00:01<00:00, 97.16it/s]\n"
     ]
    },
    {
     "name": "stdout",
     "output_type": "stream",
     "text": [
      "Rejection rate at alpha=0.05: 0.910\n",
      "Testing scenario: Dependent Strong 3\n"
     ]
    },
    {
     "name": "stderr",
     "output_type": "stream",
     "text": [
      "Running tests: 100%|██████████| 100/100 [00:01<00:00, 96.10it/s]\n"
     ]
    },
    {
     "name": "stdout",
     "output_type": "stream",
     "text": [
      "Rejection rate at alpha=0.05: 1.000\n",
      "Testing scenario: Dependent Strong 4\n"
     ]
    },
    {
     "name": "stderr",
     "output_type": "stream",
     "text": [
      "Running tests: 100%|██████████| 100/100 [00:01<00:00, 95.34it/s]\n"
     ]
    },
    {
     "name": "stdout",
     "output_type": "stream",
     "text": [
      "Rejection rate at alpha=0.05: 0.140\n",
      "Testing scenario: Dependent Strong 5\n"
     ]
    },
    {
     "name": "stderr",
     "output_type": "stream",
     "text": [
      "Running tests: 100%|██████████| 100/100 [00:01<00:00, 96.94it/s]"
     ]
    },
    {
     "name": "stdout",
     "output_type": "stream",
     "text": [
      "Rejection rate at alpha=0.05: 1.000\n"
     ]
    },
    {
     "name": "stderr",
     "output_type": "stream",
     "text": [
      "\n"
     ]
    }
   ],
   "source": [
    "scenario_types = {f\"Dependent Strong {i}\": \"Clearly Dependent\" for i in range(1, 6)}\n",
    "\n",
    "for name, gen_func in scenarios.items():\n",
    "    if name.startswith(\"Dependent Strong\"):\n",
    "        print(f\"Testing scenario: {name}\")\n",
    "        X, Y = gen_func(n)\n",
    "        rejection_rate = evaluate_test_performance(X, Y, reps=reps, alpha=alpha, B=B, norm=norm)"
   ]
  },
  {
   "cell_type": "markdown",
   "id": "5ae5d804",
   "metadata": {},
   "source": [
    "#### CASE 8: Dependence between mixed variable types"
   ]
  },
  {
   "cell_type": "code",
   "execution_count": 24,
   "id": "343eae61",
   "metadata": {},
   "outputs": [
    {
     "name": "stdout",
     "output_type": "stream",
     "text": [
      "Testing scenario: Dependent Mixed 1\n"
     ]
    },
    {
     "name": "stderr",
     "output_type": "stream",
     "text": [
      "Running tests: 100%|██████████| 100/100 [00:01<00:00, 94.43it/s]\n"
     ]
    },
    {
     "name": "stdout",
     "output_type": "stream",
     "text": [
      "Rejection rate at alpha=0.05: 1.000\n",
      "Testing scenario: Dependent Mixed 2\n"
     ]
    },
    {
     "name": "stderr",
     "output_type": "stream",
     "text": [
      "Running tests: 100%|██████████| 100/100 [00:01<00:00, 96.17it/s]\n"
     ]
    },
    {
     "name": "stdout",
     "output_type": "stream",
     "text": [
      "Rejection rate at alpha=0.05: 1.000\n",
      "Testing scenario: Dependent Mixed 3\n"
     ]
    },
    {
     "name": "stderr",
     "output_type": "stream",
     "text": [
      "Running tests: 100%|██████████| 100/100 [00:01<00:00, 99.43it/s]\n"
     ]
    },
    {
     "name": "stdout",
     "output_type": "stream",
     "text": [
      "Rejection rate at alpha=0.05: 1.000\n",
      "Testing scenario: Dependent Mixed 4\n"
     ]
    },
    {
     "name": "stderr",
     "output_type": "stream",
     "text": [
      "Running tests: 100%|██████████| 100/100 [00:00<00:00, 101.28it/s]\n"
     ]
    },
    {
     "name": "stdout",
     "output_type": "stream",
     "text": [
      "Rejection rate at alpha=0.05: 0.000\n",
      "Testing scenario: Dependent Mixed 5\n"
     ]
    },
    {
     "name": "stderr",
     "output_type": "stream",
     "text": [
      "Running tests: 100%|██████████| 100/100 [00:00<00:00, 100.85it/s]"
     ]
    },
    {
     "name": "stdout",
     "output_type": "stream",
     "text": [
      "Rejection rate at alpha=0.05: 0.120\n"
     ]
    },
    {
     "name": "stderr",
     "output_type": "stream",
     "text": [
      "\n"
     ]
    }
   ],
   "source": [
    "scenario_types = {f\"Dependent Mixed {i}\": \"Clearly Dependent\" for i in range(1, 6)}\n",
    "\n",
    "for name, gen_func in scenarios.items():\n",
    "    if name.startswith(\"Dependent Mixed\"):\n",
    "        print(f\"Testing scenario: {name}\")\n",
    "        X, Y = gen_func(n)\n",
    "        rejection_rate = evaluate_test_performance(X, Y, reps=reps, alpha=alpha, B=B, norm=norm)"
   ]
  }
 ],
 "metadata": {
  "kernelspec": {
   "display_name": "test_env",
   "language": "python",
   "name": "python3"
  },
  "language_info": {
   "codemirror_mode": {
    "name": "ipython",
    "version": 3
   },
   "file_extension": ".py",
   "mimetype": "text/x-python",
   "name": "python",
   "nbconvert_exporter": "python",
   "pygments_lexer": "ipython3",
   "version": "3.13.5"
  }
 },
 "nbformat": 4,
 "nbformat_minor": 5
}
