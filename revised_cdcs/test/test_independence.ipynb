{
 "cells": [
  {
   "cell_type": "code",
   "execution_count": 12,
   "id": "6f1e996f",
   "metadata": {},
   "outputs": [],
   "source": [
    "import os\n",
    "import numpy as np\n",
    "import pandas as pd\n",
    "import warnings\n",
    "from tqdm import trange\n",
    "from scipy.linalg import solve\n",
    "from revised_cdcs.core.testAn import compute_test_tensor_G\n",
    "from revised_cdcs.core.bnb_helper_anm import bnb_helper_anm\n",
    "from revised_cdcs.test import generate_scenarios, get_scenario_description"
   ]
  },
  {
   "cell_type": "code",
   "execution_count": 2,
   "id": "0fc2c158",
   "metadata": {},
   "outputs": [],
   "source": [
    "def evaluate_test_performance(X: np.ndarray, Y: np.ndarray, reps: int=100, \n",
    "                              alpha: float=0.05, bs: int=400, norm: int=3):\n",
    "    \"\"\"\n",
    "    Evaluates the power or type I error of the independence test on fixed (X, Y) data.\n",
    "    \n",
    "    Parameters\n",
    "    ----------\n",
    "    X: np.ndarray\n",
    "        A 1D or 2D array of shape (n,) or (n, d1) representing variable X.\n",
    "    Y: np.ndarray\n",
    "        A 1D or 2D array of shape (n,) or (n, d2) representing variable Y.\n",
    "    reps: int, optional\n",
    "        Number of repetitions to simulate the test, by default 100.\n",
    "    alpha: float, optional\n",
    "        Significance level for hypothesis testing, by default 0.05.\n",
    "    bs: int, optional\n",
    "        number of bootstrap resamples, by default 400.\n",
    "    norm: int, optional\n",
    "        which norm to aggregate over test functions, by default 'inf'.\n",
    "    \n",
    "    Returns\n",
    "    -------\n",
    "    float\n",
    "        Estimated type I error rate,\n",
    "        computed as the proportion of times the null hypothesis is rejected.\n",
    "    \"\"\"\n",
    "    # Ensure X and Y are 2D arrays\n",
    "    if X.ndim == 1:\n",
    "        X = X.reshape(-1, 1)\n",
    "    if Y.ndim == 1:\n",
    "        Y = Y.reshape(-1, 1)\n",
    "\n",
    "    n = X.shape[0]\n",
    "\n",
    "    pvals = []\n",
    "    for _ in trange(reps, desc=\"Running tests\"):\n",
    "        # Resample X and Y\n",
    "        idx = np.random.choice(n, n, replace=True)\n",
    "        X_resampled = X[idx]\n",
    "        Y_resampled = Y[idx]\n",
    "        G_resampled = compute_test_tensor_G(X_resampled)\n",
    "\n",
    "        # Run the independence test\n",
    "        pval = bnb_helper_anm(\n",
    "            ancest=X_resampled, \n",
    "            children=Y_resampled, \n",
    "            G=G_resampled,\n",
    "            withinAgg=norm, \n",
    "            aggType=norm, \n",
    "            bs=bs,\n",
    "            bootstrap_method=2\n",
    "        )\n",
    "        pvals.append(pval)\n",
    "    \n",
    "    pvals = np.array(pvals)\n",
    "    rate = np.mean(pvals < alpha)\n",
    "\n",
    "    print(f\"Rejection rate at alpha={alpha:.2f}: {rate:.3f}\")\n",
    "    \n",
    "    return rate"
   ]
  },
  {
   "cell_type": "code",
   "execution_count": 16,
   "id": "2e21e223",
   "metadata": {},
   "outputs": [
    {
     "name": "stdout",
     "output_type": "stream",
     "text": [
      "Available scenarios: 55\n",
      "- Independent GG 1: Independent Gaussian-Gaussian variables\n",
      "- Independent GG 2: Independent Gaussian-Gaussian variables\n",
      "- Independent GG 3: Independent Gaussian-Gaussian variables\n",
      "- Independent GG 4: Independent Gaussian-Gaussian variables\n",
      "- Independent GG 5: Independent Gaussian-Gaussian variables\n",
      "- Independent GG 6: Independent Gaussian-Gaussian variables\n",
      "- Independent GG 7: Independent Gaussian-Gaussian variables\n",
      "- Independent GG 8: Independent Gaussian-Gaussian variables\n",
      "- Independent GG 9: Independent Gaussian-Gaussian variables\n",
      "- Independent GG 10: Independent Gaussian-Gaussian variables\n",
      "- Independent GN 1: Independent Gaussian-NonGaussian variables\n",
      "- Independent GN 2: Independent Gaussian-NonGaussian variables\n",
      "- Independent GN 3: Independent Gaussian-NonGaussian variables\n",
      "- Independent GN 4: Independent Gaussian-NonGaussian variables\n",
      "- Independent GN 5: Independent Gaussian-NonGaussian variables\n",
      "- Independent GN 6: Independent Gaussian-NonGaussian variables\n",
      "- Independent GN 7: Independent Gaussian-NonGaussian variables\n",
      "- Independent GN 8: Independent Gaussian-NonGaussian variables\n",
      "- Independent GN 9: Independent Gaussian-NonGaussian variables\n",
      "- Independent GN 10: Independent Gaussian-NonGaussian variables\n",
      "- Independent NN 1: Independent NonGaussian-NonGaussian variables\n",
      "- Independent NN 2: Independent NonGaussian-NonGaussian variables\n",
      "- Independent NN 3: Independent NonGaussian-NonGaussian variables\n",
      "- Independent NN 4: Independent NonGaussian-NonGaussian variables\n",
      "- Independent NN 5: Independent NonGaussian-NonGaussian variables\n",
      "- Independent NN 6: Independent NonGaussian-NonGaussian variables\n",
      "- Independent NN 7: Independent NonGaussian-NonGaussian variables\n",
      "- Independent NN 8: Independent NonGaussian-NonGaussian variables\n",
      "- Independent NN 9: Independent NonGaussian-NonGaussian variables\n",
      "- Independent NN 10: Independent NonGaussian-NonGaussian variables\n",
      "- Subtle Weak 1: Weak nonlinear dependence (hard to detect)\n",
      "- Subtle Weak 2: Weak nonlinear dependence (hard to detect)\n",
      "- Subtle Weak 3: Weak nonlinear dependence (hard to detect)\n",
      "- Subtle Weak 4: Weak nonlinear dependence (hard to detect)\n",
      "- Subtle Weak 5: Weak nonlinear dependence (hard to detect)\n",
      "- Subtle Cond 1: Conditional dependence through latent variable\n",
      "- Subtle Cond 2: Conditional dependence through latent variable\n",
      "- Subtle Cond 3: Conditional dependence through latent variable\n",
      "- Subtle Cond 4: Conditional dependence through latent variable\n",
      "- Subtle Cond 5: Conditional dependence through latent variable\n",
      "- Subtle Higher 1: Higher-order interaction dependence\n",
      "- Subtle Higher 2: Higher-order interaction dependence\n",
      "- Subtle Higher 3: Higher-order interaction dependence\n",
      "- Subtle Higher 4: Higher-order interaction dependence\n",
      "- Subtle Higher 5: Higher-order interaction dependence\n",
      "- Dependent Strong 1: Strong nonlinear dependence (easy to detect)\n",
      "- Dependent Strong 2: Strong nonlinear dependence (easy to detect)\n",
      "- Dependent Strong 3: Strong nonlinear dependence (easy to detect)\n",
      "- Dependent Strong 4: Strong nonlinear dependence (easy to detect)\n",
      "- Dependent Strong 5: Strong nonlinear dependence (easy to detect)\n",
      "- Dependent Mixed 1: Dependence between mixed variable types\n",
      "- Dependent Mixed 2: Dependence between mixed variable types\n",
      "- Dependent Mixed 3: Dependence between mixed variable types\n",
      "- Dependent Mixed 4: Dependence between mixed variable types\n",
      "- Dependent Mixed 5: Dependence between mixed variable types\n"
     ]
    }
   ],
   "source": [
    "n = 1000\n",
    "\n",
    "scenarios = generate_scenarios()\n",
    "print(f\"Available scenarios: {len(scenarios)}\")\n",
    "for name in scenarios.keys():\n",
    "    print(f\"- {name}: {get_scenario_description(name)}\")"
   ]
  },
  {
   "cell_type": "markdown",
   "id": "07a48dd9",
   "metadata": {},
   "source": [
    "#### CASE 1: Independent Gaussian-Gaussian variables"
   ]
  },
  {
   "cell_type": "code",
   "execution_count": 17,
   "id": "c4c0fd78",
   "metadata": {},
   "outputs": [
    {
     "name": "stdout",
     "output_type": "stream",
     "text": [
      "Testing scenario: Independent GG 1\n"
     ]
    },
    {
     "name": "stderr",
     "output_type": "stream",
     "text": [
      "Running tests: 100%|██████████| 100/100 [00:01<00:00, 51.67it/s]\n"
     ]
    },
    {
     "name": "stdout",
     "output_type": "stream",
     "text": [
      "Rejection rate at alpha=0.05: 0.220\n",
      "Testing scenario: Independent GG 2\n"
     ]
    },
    {
     "name": "stderr",
     "output_type": "stream",
     "text": [
      "Running tests: 100%|██████████| 100/100 [00:01<00:00, 52.80it/s]\n"
     ]
    },
    {
     "name": "stdout",
     "output_type": "stream",
     "text": [
      "Rejection rate at alpha=0.05: 0.260\n",
      "Testing scenario: Independent GG 3\n"
     ]
    },
    {
     "name": "stderr",
     "output_type": "stream",
     "text": [
      "Running tests: 100%|██████████| 100/100 [00:01<00:00, 56.02it/s]\n"
     ]
    },
    {
     "name": "stdout",
     "output_type": "stream",
     "text": [
      "Rejection rate at alpha=0.05: 0.500\n",
      "Testing scenario: Independent GG 4\n"
     ]
    },
    {
     "name": "stderr",
     "output_type": "stream",
     "text": [
      "Running tests: 100%|██████████| 100/100 [00:01<00:00, 54.32it/s]\n"
     ]
    },
    {
     "name": "stdout",
     "output_type": "stream",
     "text": [
      "Rejection rate at alpha=0.05: 0.130\n",
      "Testing scenario: Independent GG 5\n"
     ]
    },
    {
     "name": "stderr",
     "output_type": "stream",
     "text": [
      "Running tests: 100%|██████████| 100/100 [00:01<00:00, 52.42it/s]\n"
     ]
    },
    {
     "name": "stdout",
     "output_type": "stream",
     "text": [
      "Rejection rate at alpha=0.05: 0.200\n",
      "Testing scenario: Independent GG 6\n"
     ]
    },
    {
     "name": "stderr",
     "output_type": "stream",
     "text": [
      "Running tests: 100%|██████████| 100/100 [00:01<00:00, 50.69it/s]\n"
     ]
    },
    {
     "name": "stdout",
     "output_type": "stream",
     "text": [
      "Rejection rate at alpha=0.05: 0.180\n",
      "Testing scenario: Independent GG 7\n"
     ]
    },
    {
     "name": "stderr",
     "output_type": "stream",
     "text": [
      "Running tests: 100%|██████████| 100/100 [00:01<00:00, 53.78it/s]\n"
     ]
    },
    {
     "name": "stdout",
     "output_type": "stream",
     "text": [
      "Rejection rate at alpha=0.05: 0.180\n",
      "Testing scenario: Independent GG 8\n"
     ]
    },
    {
     "name": "stderr",
     "output_type": "stream",
     "text": [
      "Running tests: 100%|██████████| 100/100 [00:01<00:00, 52.97it/s]\n"
     ]
    },
    {
     "name": "stdout",
     "output_type": "stream",
     "text": [
      "Rejection rate at alpha=0.05: 0.210\n",
      "Testing scenario: Independent GG 9\n"
     ]
    },
    {
     "name": "stderr",
     "output_type": "stream",
     "text": [
      "Running tests: 100%|██████████| 100/100 [00:01<00:00, 50.28it/s]\n"
     ]
    },
    {
     "name": "stdout",
     "output_type": "stream",
     "text": [
      "Rejection rate at alpha=0.05: 0.130\n",
      "Testing scenario: Independent GG 10\n"
     ]
    },
    {
     "name": "stderr",
     "output_type": "stream",
     "text": [
      "Running tests: 100%|██████████| 100/100 [00:01<00:00, 51.55it/s]"
     ]
    },
    {
     "name": "stdout",
     "output_type": "stream",
     "text": [
      "Rejection rate at alpha=0.05: 0.230\n"
     ]
    },
    {
     "name": "stderr",
     "output_type": "stream",
     "text": [
      "\n"
     ]
    }
   ],
   "source": [
    "scenario_types = {f\"Independent GG {i}\": \"Independent (G-G)\" for i in range(1, 11)} \n",
    "\n",
    "for name, gen_func in scenarios.items():\n",
    "    if name.startswith(\"Independent GG\"):\n",
    "        print(f\"Testing scenario: {name}\")\n",
    "        X, Y = gen_func(n)\n",
    "        rejection_rate = evaluate_test_performance(X, Y, reps=100, alpha=0.05, bs=400, norm=3)"
   ]
  },
  {
   "cell_type": "markdown",
   "id": "b0cd6ef1",
   "metadata": {},
   "source": [
    "#### CASE 2: Independent Gaussian-NonGaussian variables"
   ]
  },
  {
   "cell_type": "code",
   "execution_count": 18,
   "id": "baf70e1c",
   "metadata": {},
   "outputs": [
    {
     "name": "stdout",
     "output_type": "stream",
     "text": [
      "Testing scenario: Independent GN 1\n"
     ]
    },
    {
     "name": "stderr",
     "output_type": "stream",
     "text": [
      "Running tests: 100%|██████████| 100/100 [00:01<00:00, 52.66it/s]\n"
     ]
    },
    {
     "name": "stdout",
     "output_type": "stream",
     "text": [
      "Rejection rate at alpha=0.05: 0.060\n",
      "Testing scenario: Independent GN 2\n"
     ]
    },
    {
     "name": "stderr",
     "output_type": "stream",
     "text": [
      "Running tests: 100%|██████████| 100/100 [00:02<00:00, 49.82it/s]\n"
     ]
    },
    {
     "name": "stdout",
     "output_type": "stream",
     "text": [
      "Rejection rate at alpha=0.05: 0.150\n",
      "Testing scenario: Independent GN 3\n"
     ]
    },
    {
     "name": "stderr",
     "output_type": "stream",
     "text": [
      "Running tests: 100%|██████████| 100/100 [00:01<00:00, 51.14it/s]\n"
     ]
    },
    {
     "name": "stdout",
     "output_type": "stream",
     "text": [
      "Rejection rate at alpha=0.05: 0.270\n",
      "Testing scenario: Independent GN 4\n"
     ]
    },
    {
     "name": "stderr",
     "output_type": "stream",
     "text": [
      "Running tests: 100%|██████████| 100/100 [00:01<00:00, 54.42it/s]\n"
     ]
    },
    {
     "name": "stdout",
     "output_type": "stream",
     "text": [
      "Rejection rate at alpha=0.05: 0.130\n",
      "Testing scenario: Independent GN 5\n"
     ]
    },
    {
     "name": "stderr",
     "output_type": "stream",
     "text": [
      "Running tests: 100%|██████████| 100/100 [00:01<00:00, 50.84it/s]\n"
     ]
    },
    {
     "name": "stdout",
     "output_type": "stream",
     "text": [
      "Rejection rate at alpha=0.05: 0.900\n",
      "Testing scenario: Independent GN 6\n"
     ]
    },
    {
     "name": "stderr",
     "output_type": "stream",
     "text": [
      "Running tests: 100%|██████████| 100/100 [00:01<00:00, 50.80it/s]\n"
     ]
    },
    {
     "name": "stdout",
     "output_type": "stream",
     "text": [
      "Rejection rate at alpha=0.05: 0.300\n",
      "Testing scenario: Independent GN 7\n"
     ]
    },
    {
     "name": "stderr",
     "output_type": "stream",
     "text": [
      "Running tests: 100%|██████████| 100/100 [00:02<00:00, 46.07it/s]\n"
     ]
    },
    {
     "name": "stdout",
     "output_type": "stream",
     "text": [
      "Rejection rate at alpha=0.05: 0.430\n",
      "Testing scenario: Independent GN 8\n"
     ]
    },
    {
     "name": "stderr",
     "output_type": "stream",
     "text": [
      "Running tests: 100%|██████████| 100/100 [00:02<00:00, 47.82it/s]\n"
     ]
    },
    {
     "name": "stdout",
     "output_type": "stream",
     "text": [
      "Rejection rate at alpha=0.05: 0.280\n",
      "Testing scenario: Independent GN 9\n"
     ]
    },
    {
     "name": "stderr",
     "output_type": "stream",
     "text": [
      "Running tests: 100%|██████████| 100/100 [00:01<00:00, 50.69it/s]\n"
     ]
    },
    {
     "name": "stdout",
     "output_type": "stream",
     "text": [
      "Rejection rate at alpha=0.05: 0.280\n",
      "Testing scenario: Independent GN 10\n"
     ]
    },
    {
     "name": "stderr",
     "output_type": "stream",
     "text": [
      "Running tests: 100%|██████████| 100/100 [00:01<00:00, 51.85it/s]"
     ]
    },
    {
     "name": "stdout",
     "output_type": "stream",
     "text": [
      "Rejection rate at alpha=0.05: 0.400\n"
     ]
    },
    {
     "name": "stderr",
     "output_type": "stream",
     "text": [
      "\n"
     ]
    }
   ],
   "source": [
    "scenario_types = {f\"Independent GN {i}\": \"Independent (G-NG)\" for i in range(1, 11)}\n",
    "\n",
    "for name, gen_func in scenarios.items():\n",
    "    if name.startswith(\"Independent GN\"):\n",
    "        print(f\"Testing scenario: {name}\")\n",
    "        X, Y = gen_func(n)\n",
    "        rejection_rate = evaluate_test_performance(X, Y, reps=100, alpha=0.05, bs=400, norm=3)"
   ]
  },
  {
   "cell_type": "markdown",
   "id": "37104c1c",
   "metadata": {},
   "source": [
    "#### CASE 3: Independent NonGaussian-NonGaussian variables"
   ]
  },
  {
   "cell_type": "code",
   "execution_count": 6,
   "id": "fd97c162",
   "metadata": {},
   "outputs": [
    {
     "name": "stdout",
     "output_type": "stream",
     "text": [
      "Testing scenario: Independent NN 1\n"
     ]
    },
    {
     "name": "stderr",
     "output_type": "stream",
     "text": [
      "Running tests: 100%|██████████| 100/100 [00:01<00:00, 55.59it/s]\n"
     ]
    },
    {
     "name": "stdout",
     "output_type": "stream",
     "text": [
      "Rejection rate at alpha=0.05: 0.160\n",
      "Testing scenario: Independent NN 2\n"
     ]
    },
    {
     "name": "stderr",
     "output_type": "stream",
     "text": [
      "Running tests: 100%|██████████| 100/100 [00:01<00:00, 53.15it/s]\n"
     ]
    },
    {
     "name": "stdout",
     "output_type": "stream",
     "text": [
      "Rejection rate at alpha=0.05: 0.220\n",
      "Testing scenario: Independent NN 3\n"
     ]
    },
    {
     "name": "stderr",
     "output_type": "stream",
     "text": [
      "Running tests: 100%|██████████| 100/100 [00:01<00:00, 52.78it/s]\n"
     ]
    },
    {
     "name": "stdout",
     "output_type": "stream",
     "text": [
      "Rejection rate at alpha=0.05: 0.200\n",
      "Testing scenario: Independent NN 4\n"
     ]
    },
    {
     "name": "stderr",
     "output_type": "stream",
     "text": [
      "Running tests: 100%|██████████| 100/100 [00:01<00:00, 53.65it/s]\n"
     ]
    },
    {
     "name": "stdout",
     "output_type": "stream",
     "text": [
      "Rejection rate at alpha=0.05: 0.430\n",
      "Testing scenario: Independent NN 5\n"
     ]
    },
    {
     "name": "stderr",
     "output_type": "stream",
     "text": [
      "Running tests: 100%|██████████| 100/100 [00:01<00:00, 51.12it/s]\n"
     ]
    },
    {
     "name": "stdout",
     "output_type": "stream",
     "text": [
      "Rejection rate at alpha=0.05: 0.630\n",
      "Testing scenario: Independent NN 6\n"
     ]
    },
    {
     "name": "stderr",
     "output_type": "stream",
     "text": [
      "Running tests: 100%|██████████| 100/100 [00:01<00:00, 52.85it/s]\n"
     ]
    },
    {
     "name": "stdout",
     "output_type": "stream",
     "text": [
      "Rejection rate at alpha=0.05: 0.250\n",
      "Testing scenario: Independent NN 7\n"
     ]
    },
    {
     "name": "stderr",
     "output_type": "stream",
     "text": [
      "Running tests: 100%|██████████| 100/100 [00:01<00:00, 53.12it/s]\n"
     ]
    },
    {
     "name": "stdout",
     "output_type": "stream",
     "text": [
      "Rejection rate at alpha=0.05: 0.250\n",
      "Testing scenario: Independent NN 8\n"
     ]
    },
    {
     "name": "stderr",
     "output_type": "stream",
     "text": [
      "Running tests: 100%|██████████| 100/100 [00:01<00:00, 53.07it/s]\n"
     ]
    },
    {
     "name": "stdout",
     "output_type": "stream",
     "text": [
      "Rejection rate at alpha=0.05: 0.330\n",
      "Testing scenario: Independent NN 9\n"
     ]
    },
    {
     "name": "stderr",
     "output_type": "stream",
     "text": [
      "Running tests: 100%|██████████| 100/100 [00:01<00:00, 53.31it/s]\n"
     ]
    },
    {
     "name": "stdout",
     "output_type": "stream",
     "text": [
      "Rejection rate at alpha=0.05: 0.270\n",
      "Testing scenario: Independent NN 10\n"
     ]
    },
    {
     "name": "stderr",
     "output_type": "stream",
     "text": [
      "Running tests: 100%|██████████| 100/100 [00:01<00:00, 53.57it/s]"
     ]
    },
    {
     "name": "stdout",
     "output_type": "stream",
     "text": [
      "Rejection rate at alpha=0.05: 0.300\n"
     ]
    },
    {
     "name": "stderr",
     "output_type": "stream",
     "text": [
      "\n"
     ]
    }
   ],
   "source": [
    "scenario_types = {f\"Independent NN {i}\": \"Independent (NG-NG)\" for i in range(1, 11)} \n",
    "\n",
    "for name, gen_func in scenarios.items():\n",
    "    if name.startswith(\"Independent NN\"):\n",
    "        print(f\"Testing scenario: {name}\")\n",
    "        X, Y = gen_func(n)\n",
    "        rejection_rate = evaluate_test_performance(X, Y, reps=100, alpha=0.05, bs=400, norm=3)"
   ]
  },
  {
   "cell_type": "markdown",
   "id": "716f5fea",
   "metadata": {},
   "source": [
    "#### CASE 4: Weak nonlinear dependence (hard to detect)"
   ]
  },
  {
   "cell_type": "code",
   "execution_count": 7,
   "id": "027727a1",
   "metadata": {},
   "outputs": [
    {
     "name": "stdout",
     "output_type": "stream",
     "text": [
      "Testing scenario: Subtle Weak 1\n"
     ]
    },
    {
     "name": "stderr",
     "output_type": "stream",
     "text": [
      "Running tests: 100%|██████████| 100/100 [00:01<00:00, 52.32it/s]\n"
     ]
    },
    {
     "name": "stdout",
     "output_type": "stream",
     "text": [
      "Rejection rate at alpha=0.05: 1.000\n",
      "Testing scenario: Subtle Weak 2\n"
     ]
    },
    {
     "name": "stderr",
     "output_type": "stream",
     "text": [
      "Running tests: 100%|██████████| 100/100 [00:01<00:00, 53.10it/s]\n"
     ]
    },
    {
     "name": "stdout",
     "output_type": "stream",
     "text": [
      "Rejection rate at alpha=0.05: 1.000\n",
      "Testing scenario: Subtle Weak 3\n"
     ]
    },
    {
     "name": "stderr",
     "output_type": "stream",
     "text": [
      "Running tests: 100%|██████████| 100/100 [00:01<00:00, 52.97it/s]\n"
     ]
    },
    {
     "name": "stdout",
     "output_type": "stream",
     "text": [
      "Rejection rate at alpha=0.05: 0.260\n",
      "Testing scenario: Subtle Weak 4\n"
     ]
    },
    {
     "name": "stderr",
     "output_type": "stream",
     "text": [
      "Running tests: 100%|██████████| 100/100 [00:01<00:00, 51.65it/s]\n"
     ]
    },
    {
     "name": "stdout",
     "output_type": "stream",
     "text": [
      "Rejection rate at alpha=0.05: 0.110\n",
      "Testing scenario: Subtle Weak 5\n"
     ]
    },
    {
     "name": "stderr",
     "output_type": "stream",
     "text": [
      "Running tests: 100%|██████████| 100/100 [00:01<00:00, 54.84it/s]"
     ]
    },
    {
     "name": "stdout",
     "output_type": "stream",
     "text": [
      "Rejection rate at alpha=0.05: 0.950\n"
     ]
    },
    {
     "name": "stderr",
     "output_type": "stream",
     "text": [
      "\n"
     ]
    }
   ],
   "source": [
    "scenario_types = {f\"Subtle Weak {i}\": \"Subtle Dependent\" for i in range(1, 6)}\n",
    "\n",
    "for name, gen_func in scenarios.items():\n",
    "    if name.startswith(\"Subtle Weak\"):\n",
    "        print(f\"Testing scenario: {name}\")\n",
    "        X, Y = gen_func(n)\n",
    "        rejection_rate = evaluate_test_performance(X, Y, reps=100, alpha=0.05, bs=400, norm=3)"
   ]
  },
  {
   "cell_type": "markdown",
   "id": "827df0db",
   "metadata": {},
   "source": [
    "#### CASE 5: Conditional dependence through latent variable"
   ]
  },
  {
   "cell_type": "code",
   "execution_count": 8,
   "id": "52f10758",
   "metadata": {},
   "outputs": [
    {
     "name": "stdout",
     "output_type": "stream",
     "text": [
      "Testing scenario: Subtle Cond 1\n"
     ]
    },
    {
     "name": "stderr",
     "output_type": "stream",
     "text": [
      "Running tests: 100%|██████████| 100/100 [00:01<00:00, 51.98it/s]\n"
     ]
    },
    {
     "name": "stdout",
     "output_type": "stream",
     "text": [
      "Rejection rate at alpha=0.05: 1.000\n",
      "Testing scenario: Subtle Cond 2\n"
     ]
    },
    {
     "name": "stderr",
     "output_type": "stream",
     "text": [
      "Running tests: 100%|██████████| 100/100 [00:01<00:00, 53.22it/s]\n"
     ]
    },
    {
     "name": "stdout",
     "output_type": "stream",
     "text": [
      "Rejection rate at alpha=0.05: 1.000\n",
      "Testing scenario: Subtle Cond 3\n"
     ]
    },
    {
     "name": "stderr",
     "output_type": "stream",
     "text": [
      "Running tests: 100%|██████████| 100/100 [00:02<00:00, 45.28it/s]\n"
     ]
    },
    {
     "name": "stdout",
     "output_type": "stream",
     "text": [
      "Rejection rate at alpha=0.05: 1.000\n",
      "Testing scenario: Subtle Cond 4\n"
     ]
    },
    {
     "name": "stderr",
     "output_type": "stream",
     "text": [
      "Running tests: 100%|██████████| 100/100 [00:01<00:00, 50.83it/s]\n"
     ]
    },
    {
     "name": "stdout",
     "output_type": "stream",
     "text": [
      "Rejection rate at alpha=0.05: 1.000\n",
      "Testing scenario: Subtle Cond 5\n"
     ]
    },
    {
     "name": "stderr",
     "output_type": "stream",
     "text": [
      "Running tests: 100%|██████████| 100/100 [00:01<00:00, 54.48it/s]"
     ]
    },
    {
     "name": "stdout",
     "output_type": "stream",
     "text": [
      "Rejection rate at alpha=0.05: 1.000\n"
     ]
    },
    {
     "name": "stderr",
     "output_type": "stream",
     "text": [
      "\n"
     ]
    }
   ],
   "source": [
    "scenario_types = {f\"Subtle Cond {i}\": \"Subtle Dependent\" for i in range(1, 6)}\n",
    "\n",
    "for name, gen_func in scenarios.items():\n",
    "    if name.startswith(\"Subtle Cond\"):\n",
    "        print(f\"Testing scenario: {name}\")\n",
    "        X, Y = gen_func(n)\n",
    "        rejection_rate = evaluate_test_performance(X, Y, reps=100, alpha=0.05, bs=400, norm=3)"
   ]
  },
  {
   "cell_type": "markdown",
   "id": "2af99d6a",
   "metadata": {},
   "source": [
    "#### CASE 6: Higher-order interaction dependence"
   ]
  },
  {
   "cell_type": "code",
   "execution_count": 9,
   "id": "cac58bb9",
   "metadata": {},
   "outputs": [
    {
     "name": "stdout",
     "output_type": "stream",
     "text": [
      "Testing scenario: Subtle Higher 1\n"
     ]
    },
    {
     "name": "stderr",
     "output_type": "stream",
     "text": [
      "Running tests: 100%|██████████| 100/100 [00:01<00:00, 54.71it/s]\n"
     ]
    },
    {
     "name": "stdout",
     "output_type": "stream",
     "text": [
      "Rejection rate at alpha=0.05: 0.390\n",
      "Testing scenario: Subtle Higher 2\n"
     ]
    },
    {
     "name": "stderr",
     "output_type": "stream",
     "text": [
      "Running tests: 100%|██████████| 100/100 [00:01<00:00, 54.24it/s]\n"
     ]
    },
    {
     "name": "stdout",
     "output_type": "stream",
     "text": [
      "Rejection rate at alpha=0.05: 0.490\n",
      "Testing scenario: Subtle Higher 3\n"
     ]
    },
    {
     "name": "stderr",
     "output_type": "stream",
     "text": [
      "Running tests: 100%|██████████| 100/100 [00:01<00:00, 51.93it/s]\n"
     ]
    },
    {
     "name": "stdout",
     "output_type": "stream",
     "text": [
      "Rejection rate at alpha=0.05: 0.370\n",
      "Testing scenario: Subtle Higher 4\n"
     ]
    },
    {
     "name": "stderr",
     "output_type": "stream",
     "text": [
      "Running tests: 100%|██████████| 100/100 [00:01<00:00, 53.83it/s]\n"
     ]
    },
    {
     "name": "stdout",
     "output_type": "stream",
     "text": [
      "Rejection rate at alpha=0.05: 1.000\n",
      "Testing scenario: Subtle Higher 5\n"
     ]
    },
    {
     "name": "stderr",
     "output_type": "stream",
     "text": [
      "Running tests: 100%|██████████| 100/100 [00:01<00:00, 50.76it/s]"
     ]
    },
    {
     "name": "stdout",
     "output_type": "stream",
     "text": [
      "Rejection rate at alpha=0.05: 1.000\n"
     ]
    },
    {
     "name": "stderr",
     "output_type": "stream",
     "text": [
      "\n"
     ]
    }
   ],
   "source": [
    "scenario_types = {f\"Subtle Higher {i}\": \"Subtle Dependent\" for i in range(1, 6)}\n",
    "\n",
    "for name, gen_func in scenarios.items():\n",
    "    if name.startswith(\"Subtle Higher\"):\n",
    "        print(f\"Testing scenario: {name}\")\n",
    "        X, Y = gen_func(n)\n",
    "        rejection_rate = evaluate_test_performance(X, Y, reps=100, alpha=0.05, bs=400, norm=3)"
   ]
  },
  {
   "cell_type": "markdown",
   "id": "4ad9f7f9",
   "metadata": {},
   "source": [
    "#### CASE 7: Strong nonlinear dependence (easy to detect)"
   ]
  },
  {
   "cell_type": "code",
   "execution_count": 10,
   "id": "8c7f29d2",
   "metadata": {},
   "outputs": [
    {
     "name": "stdout",
     "output_type": "stream",
     "text": [
      "Testing scenario: Dependent Strong 1\n"
     ]
    },
    {
     "name": "stderr",
     "output_type": "stream",
     "text": [
      "Running tests: 100%|██████████| 100/100 [00:02<00:00, 39.73it/s]\n"
     ]
    },
    {
     "name": "stdout",
     "output_type": "stream",
     "text": [
      "Rejection rate at alpha=0.05: 1.000\n",
      "Testing scenario: Dependent Strong 2\n"
     ]
    },
    {
     "name": "stderr",
     "output_type": "stream",
     "text": [
      "Running tests: 100%|██████████| 100/100 [00:01<00:00, 54.94it/s]\n"
     ]
    },
    {
     "name": "stdout",
     "output_type": "stream",
     "text": [
      "Rejection rate at alpha=0.05: 1.000\n",
      "Testing scenario: Dependent Strong 3\n"
     ]
    },
    {
     "name": "stderr",
     "output_type": "stream",
     "text": [
      "Running tests: 100%|██████████| 100/100 [00:01<00:00, 53.48it/s]\n"
     ]
    },
    {
     "name": "stdout",
     "output_type": "stream",
     "text": [
      "Rejection rate at alpha=0.05: 1.000\n",
      "Testing scenario: Dependent Strong 4\n"
     ]
    },
    {
     "name": "stderr",
     "output_type": "stream",
     "text": [
      "Running tests: 100%|██████████| 100/100 [00:01<00:00, 53.10it/s]\n"
     ]
    },
    {
     "name": "stdout",
     "output_type": "stream",
     "text": [
      "Rejection rate at alpha=0.05: 0.480\n",
      "Testing scenario: Dependent Strong 5\n"
     ]
    },
    {
     "name": "stderr",
     "output_type": "stream",
     "text": [
      "Running tests: 100%|██████████| 100/100 [00:02<00:00, 47.99it/s]"
     ]
    },
    {
     "name": "stdout",
     "output_type": "stream",
     "text": [
      "Rejection rate at alpha=0.05: 1.000\n"
     ]
    },
    {
     "name": "stderr",
     "output_type": "stream",
     "text": [
      "\n"
     ]
    }
   ],
   "source": [
    "scenario_types = {f\"Dependent Strong {i}\": \"Clearly Dependent\" for i in range(1, 6)}\n",
    "\n",
    "for name, gen_func in scenarios.items():\n",
    "    if name.startswith(\"Dependent Strong\"):\n",
    "        print(f\"Testing scenario: {name}\")\n",
    "        X, Y = gen_func(n)\n",
    "        rejection_rate = evaluate_test_performance(X, Y, reps=100, alpha=0.05, bs=400, norm=3)"
   ]
  },
  {
   "cell_type": "markdown",
   "id": "5ae5d804",
   "metadata": {},
   "source": [
    "#### CASE 8: Dependence between mixed variable types"
   ]
  },
  {
   "cell_type": "code",
   "execution_count": 11,
   "id": "343eae61",
   "metadata": {},
   "outputs": [
    {
     "name": "stdout",
     "output_type": "stream",
     "text": [
      "Testing scenario: Dependent Mixed 1\n"
     ]
    },
    {
     "name": "stderr",
     "output_type": "stream",
     "text": [
      "Running tests: 100%|██████████| 100/100 [00:02<00:00, 43.68it/s]\n"
     ]
    },
    {
     "name": "stdout",
     "output_type": "stream",
     "text": [
      "Rejection rate at alpha=0.05: 1.000\n",
      "Testing scenario: Dependent Mixed 2\n"
     ]
    },
    {
     "name": "stderr",
     "output_type": "stream",
     "text": [
      "Running tests: 100%|██████████| 100/100 [00:01<00:00, 53.19it/s]\n"
     ]
    },
    {
     "name": "stdout",
     "output_type": "stream",
     "text": [
      "Rejection rate at alpha=0.05: 1.000\n",
      "Testing scenario: Dependent Mixed 3\n"
     ]
    },
    {
     "name": "stderr",
     "output_type": "stream",
     "text": [
      "Running tests: 100%|██████████| 100/100 [00:01<00:00, 51.71it/s]\n"
     ]
    },
    {
     "name": "stdout",
     "output_type": "stream",
     "text": [
      "Rejection rate at alpha=0.05: 1.000\n",
      "Testing scenario: Dependent Mixed 4\n"
     ]
    },
    {
     "name": "stderr",
     "output_type": "stream",
     "text": [
      "Running tests: 100%|██████████| 100/100 [00:01<00:00, 53.51it/s]\n"
     ]
    },
    {
     "name": "stdout",
     "output_type": "stream",
     "text": [
      "Rejection rate at alpha=0.05: 0.080\n",
      "Testing scenario: Dependent Mixed 5\n"
     ]
    },
    {
     "name": "stderr",
     "output_type": "stream",
     "text": [
      "Running tests: 100%|██████████| 100/100 [00:01<00:00, 54.53it/s]"
     ]
    },
    {
     "name": "stdout",
     "output_type": "stream",
     "text": [
      "Rejection rate at alpha=0.05: 0.100\n"
     ]
    },
    {
     "name": "stderr",
     "output_type": "stream",
     "text": [
      "\n"
     ]
    }
   ],
   "source": [
    "scenario_types = {f\"Dependent Mixed {i}\": \"Clearly Dependent\" for i in range(1, 6)}\n",
    "\n",
    "for name, gen_func in scenarios.items():\n",
    "    if name.startswith(\"Dependent Mixed\"):\n",
    "        print(f\"Testing scenario: {name}\")\n",
    "        X, Y = gen_func(n)\n",
    "        rejection_rate = evaluate_test_performance(X, Y, reps=100, alpha=0.05, bs=400, norm=3)"
   ]
  }
 ],
 "metadata": {
  "kernelspec": {
   "display_name": "test_env",
   "language": "python",
   "name": "python3"
  },
  "language_info": {
   "codemirror_mode": {
    "name": "ipython",
    "version": 3
   },
   "file_extension": ".py",
   "mimetype": "text/x-python",
   "name": "python",
   "nbconvert_exporter": "python",
   "pygments_lexer": "ipython3",
   "version": "3.13.5"
  }
 },
 "nbformat": 4,
 "nbformat_minor": 5
}
